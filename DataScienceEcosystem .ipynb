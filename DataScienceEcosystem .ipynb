{
 "cells": [
  {
   "cell_type": "markdown",
   "id": "91b81fbf",
   "metadata": {},
   "source": [
    "# Data Science Tools and Ecosystem "
   ]
  },
  {
   "cell_type": "markdown",
   "id": "3ac0f2e9",
   "metadata": {},
   "source": [
    "**In this notebook, Data Science Tools and Ecosystem are summarized.**"
   ]
  },
  {
   "cell_type": "markdown",
   "id": "8fc6eef2",
   "metadata": {},
   "source": [
    "Some of the popular languages that Data Scientists use are:\n",
    "1. Python \n",
    "2. R \n",
    "3. C ++ \n",
    "4. GO"
   ]
  },
  {
   "cell_type": "markdown",
   "id": "0e6c514b",
   "metadata": {},
   "source": [
    "Some of the commonly used libraries used by Data Scientists include:\n",
    "1. Pandas \n",
    "2. Sckit \n",
    "3. Numpy \n",
    "4. Matplotlib"
   ]
  },
  {
   "cell_type": "markdown",
   "id": "43ec55da",
   "metadata": {},
   "source": [
    "\n",
    "| Data Science Tools |\n",
    "|------|\n",
    "| Jupyter Notebooks |\n",
    "| R and R-Studio | \n",
    "| Visual Studio Code | "
   ]
  },
  {
   "cell_type": "markdown",
   "id": "413aa270",
   "metadata": {},
   "source": [
    "### Below are a few examples of evaluating arithmetic expressions in Python.\n",
    "\n",
    "\n",
    "3 * 5 = 15  \n",
    "9 + 4 = 11  \n",
    "10 - 4 = 6 "
   ]
  },
  {
   "cell_type": "code",
   "execution_count": 7,
   "id": "76c4f1da",
   "metadata": {},
   "outputs": [
    {
     "data": {
      "text/plain": [
       "17"
      ]
     },
     "execution_count": 7,
     "metadata": {},
     "output_type": "execute_result"
    }
   ],
   "source": [
    "# This a simple arithmetic expression to mutiply then add integers\n",
    "(3*4)+5"
   ]
  },
  {
   "cell_type": "code",
   "execution_count": 8,
   "id": "17790be3",
   "metadata": {},
   "outputs": [
    {
     "data": {
      "text/plain": [
       "3.3333333333333335"
      ]
     },
     "execution_count": 8,
     "metadata": {},
     "output_type": "execute_result"
    }
   ],
   "source": [
    "# This will convert 200 minutes to hours by diving by 60\n",
    "m = 200\n",
    "h = m/60 \n",
    "h "
   ]
  },
  {
   "cell_type": "markdown",
   "id": "a260d726",
   "metadata": {},
   "source": [
    "**Objectives**\n",
    "\n",
    "* Create this notebook\n",
    "* Do all exercises \n",
    "* Share it through GitHub"
   ]
  },
  {
   "cell_type": "markdown",
   "id": "ea4cdeda",
   "metadata": {},
   "source": [
    "## PEDRO LOPEZ ARAGO"
   ]
  }
 ],
 "metadata": {
  "kernelspec": {
   "display_name": "6.86x",
   "language": "python",
   "name": "python3"
  },
  "language_info": {
   "codemirror_mode": {
    "name": "ipython",
    "version": 3
   },
   "file_extension": ".py",
   "mimetype": "text/x-python",
   "name": "python",
   "nbconvert_exporter": "python",
   "pygments_lexer": "ipython3",
   "version": "3.8.20"
  }
 },
 "nbformat": 4,
 "nbformat_minor": 5
}
