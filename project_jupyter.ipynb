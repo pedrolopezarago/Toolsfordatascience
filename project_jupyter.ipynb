{
 "cells": [
  {
   "cell_type": "markdown",
   "id": "91b81fbf",
   "metadata": {},
   "source": [
    "## FINAL PROJECT"
   ]
  },
  {
   "cell_type": "markdown",
   "id": "3ac0f2e9",
   "metadata": {},
   "source": [
    "**Introduction to the notebook**"
   ]
  },
  {
   "cell_type": "markdown",
   "id": "8fc6eef2",
   "metadata": {},
   "source": [
    "List of popular Data Science programming languages:\n",
    "* Python \n",
    "* R \n",
    "* C ++ \n",
    "* GO"
   ]
  },
  {
   "cell_type": "markdown",
   "id": "0e6c514b",
   "metadata": {},
   "source": [
    "List of Data Science libraries:\n",
    "- Pandas \n",
    "- Sckit \n",
    "- Numpy \n",
    "- Matplotlib"
   ]
  },
  {
   "cell_type": "markdown",
   "id": "43ec55da",
   "metadata": {},
   "source": [
    "Data Science tools \n",
    "| Libraries | Programming Languages |\n",
    "|------|-----|\n",
    "| Pandas | Python |\n",
    "| Sckit | R |\n",
    "| Numpy | C ++ |"
   ]
  },
  {
   "cell_type": "markdown",
   "id": "413aa270",
   "metadata": {},
   "source": [
    "**Some examples of arithmetic operation:**\n",
    "\n",
    "3 x 5 = 15  \n",
    "9 + 4 = 11  \n",
    "10 - 4 = 6 "
   ]
  },
  {
   "cell_type": "markdown",
   "id": "0dca64b9",
   "metadata": {},
   "source": [
    "The next cell multiplies two numbers a and b and sums two numbers c and d "
   ]
  },
  {
   "cell_type": "code",
   "execution_count": 1,
   "id": "76c4f1da",
   "metadata": {},
   "outputs": [
    {
     "data": {
      "text/plain": [
       "(15, 13)"
      ]
     },
     "execution_count": 1,
     "metadata": {},
     "output_type": "execute_result"
    }
   ],
   "source": [
    "a = 5\n",
    "b = 3\n",
    "c = 9\n",
    "d = 4\n",
    "\n",
    "multiplier  = a * b \n",
    "sum = c + d\n",
    "\n",
    "multiplier,sum"
   ]
  },
  {
   "cell_type": "markdown",
   "id": "5a4f2ddd",
   "metadata": {},
   "source": [
    "The next cell converts m minutes into hours"
   ]
  },
  {
   "cell_type": "code",
   "execution_count": 2,
   "id": "17790be3",
   "metadata": {},
   "outputs": [
    {
     "data": {
      "text/plain": [
       "1.6666666666666667"
      ]
     },
     "execution_count": 2,
     "metadata": {},
     "output_type": "execute_result"
    }
   ],
   "source": [
    "m = 100\n",
    "h = m/60 \n",
    "h "
   ]
  },
  {
   "cell_type": "markdown",
   "id": "a260d726",
   "metadata": {},
   "source": [
    "**Objectives**\n",
    "\n",
    "1. Create this notebook\n",
    "2. Do all exercises \n",
    "3. Share it through GitHub"
   ]
  },
  {
   "cell_type": "markdown",
   "id": "efcab2d4",
   "metadata": {},
   "source": [
    "***PEDRO LÓPEZ ARAGÓ***"
   ]
  }
 ],
 "metadata": {
  "kernelspec": {
   "display_name": "Python 3",
   "language": "python",
   "name": "python3"
  },
  "language_info": {
   "codemirror_mode": {
    "name": "ipython",
    "version": 3
   },
   "file_extension": ".py",
   "mimetype": "text/x-python",
   "name": "python",
   "nbconvert_exporter": "python",
   "pygments_lexer": "ipython3",
   "version": "3.9.6"
  }
 },
 "nbformat": 4,
 "nbformat_minor": 5
}
